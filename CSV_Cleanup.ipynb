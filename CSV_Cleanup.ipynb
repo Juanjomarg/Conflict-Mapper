{
 "cells": [
  {
   "cell_type": "code",
   "execution_count": 2,
   "metadata": {},
   "outputs": [],
   "source": [
    "from python_files.functions import *\n",
    "from python_files.libraries import *"
   ]
  },
  {
   "cell_type": "code",
   "execution_count": 150,
   "metadata": {},
   "outputs": [
    {
     "data": {
      "text/plain": [
       "'\\nciudades=pd.read_csv(\"./Assets/Infrastructure/RAW/cities.csv\",sep=\";\")\\n\\nUkraine_filtered=ciudades.loc[ciudades[\"Country Code\"]==\"UA\"]\\n\\nciudades_rename=Ukraine_filtered.rename(columns={\"Population\":\"population\",\"Name\":\"name\",\"Alternate Names\":\"alternate_names\",\"Feature Code\":\"code\"})\\n\\nciudades_rename[[\\'latitude\\',\\'longitude\\']] = ciudades_rename[\\'Coordinates\\'].str.split(\\',\\',expand=True)\\n\\nlimpiar=[\\n        \"Geoname ID\",\\n        \"ASCII Name\",\\n        \"Feature Class\",\\n        \"Elevation\",\\n        \"DIgital Elevation Model\",\\n        \"Timezone\",\\n        \"Modification date\",\\n        \"LABEL EN\",\\n        \"Country Code\",\\n        \"Country name EN\",\\n        \"Country Code 2\",\\n        \"Admin1 Code\",\\n        \"Admin2 Code\",\\n        \"Admin3 Code\",\\n        \"Admin4 Code\",\\n        \"Coordinates\"\\n        ]\\nCiudades=ciudades_rename.drop(columns=limpiar)\\n\\nCiudades.to_csv(\"./Assets/Infrastructure/CSV/Cities.csv\",index=False)\\nCiudades.sample(5)\\n#'"
      ]
     },
     "execution_count": 150,
     "metadata": {},
     "output_type": "execute_result"
    }
   ],
   "source": [
    "\"\"\"\n",
    "ciudades=pd.read_csv(\"./assets/Infrastructure/RAW/cities.csv\",sep=\";\")\n",
    "\n",
    "Ukraine_filtered=ciudades.loc[ciudades[\"Country Code\"]==\"UA\"]\n",
    "\n",
    "ciudades_rename=Ukraine_filtered.rename(columns={\"Population\":\"population\",\"Name\":\"name\",\"Alternate Names\":\"alternate_names\",\"Feature Code\":\"code\"})\n",
    "\n",
    "ciudades_rename[['latitude','longitude']] = ciudades_rename['Coordinates'].str.split(',',expand=True)\n",
    "\n",
    "limpiar=[\n",
    "        \"Geoname ID\",\n",
    "        \"ASCII Name\",\n",
    "        \"Feature Class\",\n",
    "        \"Elevation\",\n",
    "        \"DIgital Elevation Model\",\n",
    "        \"Timezone\",\n",
    "        \"Modification date\",\n",
    "        \"LABEL EN\",\n",
    "        \"Country Code\",\n",
    "        \"Country name EN\",\n",
    "        \"Country Code 2\",\n",
    "        \"Admin1 Code\",\n",
    "        \"Admin2 Code\",\n",
    "        \"Admin3 Code\",\n",
    "        \"Admin4 Code\",\n",
    "        \"Coordinates\"\n",
    "        ]\n",
    "Ciudades=ciudades_rename.drop(columns=limpiar)\n",
    "\n",
    "Ciudades.to_csv(\"./assets/Infrastructure/CSV/Cities.csv\",index=False)\n",
    "Ciudades.sample(5)\n",
    "#\"\"\""
   ]
  },
  {
   "cell_type": "code",
   "execution_count": 151,
   "metadata": {},
   "outputs": [
    {
     "data": {
      "text/plain": [
       "'\\nair=pd.read_csv(\"./Assets/Infrastructure/RAW/airports.csv\")\\n\\nair.rename(columns={\"latitude_deg\":\"latitude\",\"longitude_deg\":\"longitude\",\"type\":\"code\"},inplace=True)\\n\\nair.drop([0],inplace=True)\\n\\nsome_values=[\"small_airport\",\"medium_airport\",\"large_airport\",\"heliport\"]\\nair_clean=air.loc[air[\\'code\\'].isin(some_values)]\\n\\nAirports=air_clean.drop(columns=[\"id\",\"ident\",\"elevation_ft\",\"continent\",\"country_name\",\"iso_country\",\"iso_region\",\"local_region\",\"scheduled_service\",\"gps_code\",\"iata_code\",\"local_code\",\"home_link\",\"wikipedia_link\",\"keywords\",\"score\",\"last_updated\",\"municipality\",\"region_name\"])\\n\\nAirports[\\'code\\'] = Airports[\\'code\\'].replace([\\'small_airport\\'], \\'AIRF\\')\\nAirports[\\'code\\'] = Airports[\\'code\\'].replace([\\'medium_airport\\'], \\'AIRM\\')\\nAirports[\\'code\\'] = Airports[\\'code\\'].replace([\\'large_airport\\'], \\'AIRP\\')\\nAirports[\\'code\\'] = Airports[\\'code\\'].replace([\\'heliport\\'], \\'AIRH\\')\\n\\nAirports.to_csv(\"./Assets/Infrastructure/CSV/Airports.csv\",index=False)\\nAirports.sample(5)\\n#'"
      ]
     },
     "execution_count": 151,
     "metadata": {},
     "output_type": "execute_result"
    }
   ],
   "source": [
    "\"\"\"\n",
    "air=pd.read_csv(\"./assets/Infrastructure/RAW/airports.csv\")\n",
    "\n",
    "air.rename(columns={\"latitude_deg\":\"latitude\",\"longitude_deg\":\"longitude\",\"type\":\"code\"},inplace=True)\n",
    "\n",
    "air.drop([0],inplace=True)\n",
    "\n",
    "some_values=[\"small_airport\",\"medium_airport\",\"large_airport\",\"heliport\"]\n",
    "air_clean=air.loc[air['code'].isin(some_values)]\n",
    "\n",
    "Airports=air_clean.drop(columns=[\"id\",\"ident\",\"elevation_ft\",\"continent\",\"country_name\",\"iso_country\",\"iso_region\",\"local_region\",\"scheduled_service\",\"gps_code\",\"iata_code\",\"local_code\",\"home_link\",\"wikipedia_link\",\"keywords\",\"score\",\"last_updated\",\"municipality\",\"region_name\"])\n",
    "\n",
    "Airports['code'] = Airports['code'].replace(['small_airport'], 'AIRF')\n",
    "Airports['code'] = Airports['code'].replace(['medium_airport'], 'AIRM')\n",
    "Airports['code'] = Airports['code'].replace(['large_airport'], 'AIRP')\n",
    "Airports['code'] = Airports['code'].replace(['heliport'], 'AIRH')\n",
    "\n",
    "Airports.to_csv(\"./assets/Infrastructure/CSV/Airports.csv\",index=False)\n",
    "Airports.sample(5)\n",
    "#\"\"\""
   ]
  },
  {
   "cell_type": "code",
   "execution_count": 152,
   "metadata": {},
   "outputs": [
    {
     "data": {
      "text/plain": [
       "'\\nframes=[Ciudades,Airports]\\ndf_merged = pd.concat(frames)\\n\\ndf_merged.sort_values(by=[\\'name\\'],inplace=True)\\n\\ndf_merged.drop_duplicates(\\'name\\', inplace = True)\\n\\ndf_merged.to_csv(\"./Assets/Infrastructure/CSV/Infrastructure.csv\",index=False)\\ndf_merged.head(20)\\n#'"
      ]
     },
     "execution_count": 152,
     "metadata": {},
     "output_type": "execute_result"
    }
   ],
   "source": [
    "\"\"\"\n",
    "frames=[Ciudades,Airports]\n",
    "df_merged = pd.concat(frames)\n",
    "\n",
    "df_merged.sort_values(by=['name'],inplace=True)\n",
    "\n",
    "df_merged.drop_duplicates('name', inplace = True)\n",
    "\n",
    "df_merged.to_csv(\"./assets/Infrastructure/CSV/Infrastructure.csv\",index=False)\n",
    "df_merged.sample(5)\n",
    "#\"\"\""
   ]
  },
  {
   "cell_type": "code",
   "execution_count": 166,
   "metadata": {},
   "outputs": [
    {
     "data": {
      "text/html": [
       "<div>\n",
       "<style scoped>\n",
       "    .dataframe tbody tr th:only-of-type {\n",
       "        vertical-align: middle;\n",
       "    }\n",
       "\n",
       "    .dataframe tbody tr th {\n",
       "        vertical-align: top;\n",
       "    }\n",
       "\n",
       "    .dataframe thead th {\n",
       "        text-align: right;\n",
       "    }\n",
       "</style>\n",
       "<table border=\"1\" class=\"dataframe\">\n",
       "  <thead>\n",
       "    <tr style=\"text-align: right;\">\n",
       "      <th></th>\n",
       "      <th>name</th>\n",
       "      <th>alternate_names</th>\n",
       "      <th>code</th>\n",
       "      <th>population</th>\n",
       "      <th>latitude</th>\n",
       "      <th>longitude</th>\n",
       "    </tr>\n",
       "  </thead>\n",
       "  <tbody>\n",
       "    <tr>\n",
       "      <th>470</th>\n",
       "      <td>Hradyzk</td>\n",
       "      <td>Gradiz'k,Gradizhsk,Hradyzk,Градижск,Градизьк</td>\n",
       "      <td>PPL</td>\n",
       "      <td>6248.0</td>\n",
       "      <td>49.23943</td>\n",
       "      <td>33.13941</td>\n",
       "    </tr>\n",
       "    <tr>\n",
       "      <th>788</th>\n",
       "      <td>Kryvyy Rih</td>\n",
       "      <td>KWG,Krivi Rih,Krivi Rog,Krivii Rih,Krivij Rig,...</td>\n",
       "      <td>PPLA2</td>\n",
       "      <td>624579.0</td>\n",
       "      <td>47.90572</td>\n",
       "      <td>33.39404</td>\n",
       "    </tr>\n",
       "    <tr>\n",
       "      <th>997</th>\n",
       "      <td>Mezenivka</td>\n",
       "      <td>Mezenevka,Mezenivka,Mezenovka,Мезеновка,Мезенівка</td>\n",
       "      <td>PPL</td>\n",
       "      <td>1273.0</td>\n",
       "      <td>50.63486</td>\n",
       "      <td>35.31340</td>\n",
       "    </tr>\n",
       "    <tr>\n",
       "      <th>1915</th>\n",
       "      <td>Vasyliv</td>\n",
       "      <td>Vasilau,Vasilev,Vasiliv,Vasilău,Vassyliv,Wasyl...</td>\n",
       "      <td>PPL</td>\n",
       "      <td>1229.0</td>\n",
       "      <td>48.60580</td>\n",
       "      <td>25.84324</td>\n",
       "    </tr>\n",
       "    <tr>\n",
       "      <th>539</th>\n",
       "      <td>Kairy</td>\n",
       "      <td>Kairi,Kairy,Kayiry,Zapadnyye Kairy,Каїри</td>\n",
       "      <td>PPL</td>\n",
       "      <td>3364.0</td>\n",
       "      <td>46.94611</td>\n",
       "      <td>33.70519</td>\n",
       "    </tr>\n",
       "  </tbody>\n",
       "</table>\n",
       "</div>"
      ],
      "text/plain": [
       "            name                                    alternate_names   code  \\\n",
       "470      Hradyzk       Gradiz'k,Gradizhsk,Hradyzk,Градижск,Градизьк    PPL   \n",
       "788   Kryvyy Rih  KWG,Krivi Rih,Krivi Rog,Krivii Rih,Krivij Rig,...  PPLA2   \n",
       "997    Mezenivka  Mezenevka,Mezenivka,Mezenovka,Мезеновка,Мезенівка    PPL   \n",
       "1915     Vasyliv  Vasilau,Vasilev,Vasiliv,Vasilău,Vassyliv,Wasyl...    PPL   \n",
       "539        Kairy           Kairi,Kairy,Kayiry,Zapadnyye Kairy,Каїри    PPL   \n",
       "\n",
       "      population  latitude  longitude  \n",
       "470       6248.0  49.23943   33.13941  \n",
       "788     624579.0  47.90572   33.39404  \n",
       "997       1273.0  50.63486   35.31340  \n",
       "1915      1229.0  48.60580   25.84324  \n",
       "539       3364.0  46.94611   33.70519  "
      ]
     },
     "execution_count": 166,
     "metadata": {},
     "output_type": "execute_result"
    }
   ],
   "source": [
    "inf_df=cargar_infraestructura()\n",
    "\n",
    "inf_df.sample(5)\n"
   ]
  },
  {
   "cell_type": "code",
   "execution_count": 81,
   "metadata": {},
   "outputs": [
    {
     "data": {
      "text/html": [
       "<div>\n",
       "<style scoped>\n",
       "    .dataframe tbody tr th:only-of-type {\n",
       "        vertical-align: middle;\n",
       "    }\n",
       "\n",
       "    .dataframe tbody tr th {\n",
       "        vertical-align: top;\n",
       "    }\n",
       "\n",
       "    .dataframe thead th {\n",
       "        text-align: right;\n",
       "    }\n",
       "</style>\n",
       "<table border=\"1\" class=\"dataframe\">\n",
       "  <thead>\n",
       "    <tr style=\"text-align: right;\">\n",
       "      <th></th>\n",
       "      <th>name</th>\n",
       "      <th>alternate_names</th>\n",
       "      <th>code</th>\n",
       "      <th>population</th>\n",
       "      <th>latitude</th>\n",
       "      <th>longitude</th>\n",
       "      <th>Title_news_count</th>\n",
       "      <th>Description_news_count</th>\n",
       "      <th>News_count_sum</th>\n",
       "    </tr>\n",
       "  </thead>\n",
       "  <tbody>\n",
       "    <tr>\n",
       "      <th>0</th>\n",
       "      <td>Abrikosovka</td>\n",
       "      <td>Abrikosivka,Abrikosovka,Najman,Абрикосовка,Абр...</td>\n",
       "      <td>PPLA3</td>\n",
       "      <td>1079.0</td>\n",
       "      <td>45.107590</td>\n",
       "      <td>35.101390</td>\n",
       "      <td></td>\n",
       "      <td></td>\n",
       "      <td></td>\n",
       "    </tr>\n",
       "    <tr>\n",
       "      <th>1</th>\n",
       "      <td>Abrikosovo</td>\n",
       "      <td>Abrikosove,Abrikosovo,Ajgashen,Ordzhak-Dzhabu,...</td>\n",
       "      <td>PPLA3</td>\n",
       "      <td>778.0</td>\n",
       "      <td>45.692360</td>\n",
       "      <td>34.101560</td>\n",
       "      <td></td>\n",
       "      <td></td>\n",
       "      <td></td>\n",
       "    </tr>\n",
       "    <tr>\n",
       "      <th>2</th>\n",
       "      <td>Adzhamka</td>\n",
       "      <td>Adzhamka,Аджамка</td>\n",
       "      <td>PPL</td>\n",
       "      <td>3859.0</td>\n",
       "      <td>48.539730</td>\n",
       "      <td>32.535950</td>\n",
       "      <td></td>\n",
       "      <td></td>\n",
       "      <td></td>\n",
       "    </tr>\n",
       "    <tr>\n",
       "      <th>3</th>\n",
       "      <td>Aeroclub Swallow</td>\n",
       "      <td>NaN</td>\n",
       "      <td>small_airport</td>\n",
       "      <td>NaN</td>\n",
       "      <td>48.812230</td>\n",
       "      <td>26.022577</td>\n",
       "      <td></td>\n",
       "      <td></td>\n",
       "      <td></td>\n",
       "    </tr>\n",
       "    <tr>\n",
       "      <th>4</th>\n",
       "      <td>Aerodrom Belz</td>\n",
       "      <td>NaN</td>\n",
       "      <td>small_airport</td>\n",
       "      <td>NaN</td>\n",
       "      <td>50.377192</td>\n",
       "      <td>23.964880</td>\n",
       "      <td></td>\n",
       "      <td></td>\n",
       "      <td></td>\n",
       "    </tr>\n",
       "  </tbody>\n",
       "</table>\n",
       "</div>"
      ],
      "text/plain": [
       "               name                                    alternate_names  \\\n",
       "0       Abrikosovka  Abrikosivka,Abrikosovka,Najman,Абрикосовка,Абр...   \n",
       "1        Abrikosovo  Abrikosove,Abrikosovo,Ajgashen,Ordzhak-Dzhabu,...   \n",
       "2          Adzhamka                                   Adzhamka,Аджамка   \n",
       "3  Aeroclub Swallow                                                NaN   \n",
       "4     Aerodrom Belz                                                NaN   \n",
       "\n",
       "            code  population   latitude  longitude Title_news_count  \\\n",
       "0          PPLA3      1079.0  45.107590  35.101390                    \n",
       "1          PPLA3       778.0  45.692360  34.101560                    \n",
       "2            PPL      3859.0  48.539730  32.535950                    \n",
       "3  small_airport         NaN  48.812230  26.022577                    \n",
       "4  small_airport         NaN  50.377192  23.964880                    \n",
       "\n",
       "  Description_news_count News_count_sum  \n",
       "0                                        \n",
       "1                                        \n",
       "2                                        \n",
       "3                                        \n",
       "4                                        "
      ]
     },
     "execution_count": 81,
     "metadata": {},
     "output_type": "execute_result"
    }
   ],
   "source": [
    "inf_df['Title_news_count'] = inf_df.apply(lambda _: '', axis=1)\n",
    "inf_df['Description_news_count'] = inf_df.apply(lambda _: '', axis=1)  \n",
    "inf_df['News_count_sum'] = inf_df.apply(lambda _: '', axis=1)\n",
    "\n",
    "cities = list(inf_df.index.values)\n",
    "\n",
    "inf_df.head()\n",
    "\n"
   ]
  },
  {
   "cell_type": "code",
   "execution_count": 6,
   "metadata": {},
   "outputs": [
    {
     "name": "stderr",
     "output_type": "stream",
     "text": [
      "--2023-01-06 10:49:46--  https://github.com/simonhuwiler/uawardata/blob/master/data/csv/btgs_all.csv\n",
      "Resolving github.com (github.com)... 140.82.114.4\n",
      "Connecting to github.com (github.com)|140.82.114.4|:443... connected.\n",
      "HTTP request sent, awaiting response... 200 OK\n",
      "Length: unspecified [text/html]\n",
      "Saving to: ‘./assets/Infrastructure/RAW/BTGs.csv’\n",
      "\n",
      "     0K .......... .......... .......... .......... ..........  175K\n",
      "    50K .......... .......... .......... .......... ..........  510K\n",
      "   100K .......... .......... .......... .......... ..........  928K\n",
      "   150K .......... .......... .......... .......... ..........  767K\n",
      "   200K .......... .......... .......... .......... .......... 1.40M\n",
      "   250K .......... .......... .......... .......... ..........  367K\n",
      "   300K .......... .......... .......... .......... .......... 1.47M\n",
      "   350K .......... .......... .......... .......... .......... 1.40M\n",
      "   400K .......... .......... .......... .......... .......... 1.67M\n",
      "   450K .......... .......... .......... .......... .......... 1.85M\n",
      "   500K .......... .......... .......... .......... ..         4.10M=0.8s\n",
      "\n",
      "2023-01-06 10:49:48 (672 KB/s) - ‘./assets/Infrastructure/RAW/BTGs.csv’ saved [555977]\n",
      "\n"
     ]
    },
    {
     "data": {
      "text/plain": [
       "0"
      ]
     },
     "execution_count": 6,
     "metadata": {},
     "output_type": "execute_result"
    }
   ],
   "source": [
    "bashCommand=\"wget 'https://github.com/simonhuwiler/uawardata/blob/master/data/csv/btgs_all.csv' -O ./assets/Infrastructure/RAW/BTGs.csv\"\n",
    "\n",
    "os.system(bashCommand)"
   ]
  },
  {
   "cell_type": "code",
   "execution_count": 2,
   "metadata": {},
   "outputs": [
    {
     "data": {
      "text/html": [
       "<div>\n",
       "<style scoped>\n",
       "    .dataframe tbody tr th:only-of-type {\n",
       "        vertical-align: middle;\n",
       "    }\n",
       "\n",
       "    .dataframe tbody tr th {\n",
       "        vertical-align: top;\n",
       "    }\n",
       "\n",
       "    .dataframe thead th {\n",
       "        text-align: right;\n",
       "    }\n",
       "</style>\n",
       "<table border=\"1\" class=\"dataframe\">\n",
       "  <thead>\n",
       "    <tr style=\"text-align: right;\">\n",
       "      <th></th>\n",
       "      <th>date</th>\n",
       "      <th>lat</th>\n",
       "      <th>lng</th>\n",
       "      <th>unit</th>\n",
       "      <th>type_of_btg</th>\n",
       "      <th>country</th>\n",
       "    </tr>\n",
       "  </thead>\n",
       "  <tbody>\n",
       "    <tr>\n",
       "      <th>0</th>\n",
       "      <td>2022-03-27</td>\n",
       "      <td>50.492187</td>\n",
       "      <td>30.166542</td>\n",
       "      <td>104th Guards Air Assault Regiment</td>\n",
       "      <td>vdv</td>\n",
       "      <td>ru</td>\n",
       "    </tr>\n",
       "    <tr>\n",
       "      <th>1</th>\n",
       "      <td>2022-03-27</td>\n",
       "      <td>50.646655</td>\n",
       "      <td>30.258347</td>\n",
       "      <td>137th Guards Airborne Regiment</td>\n",
       "      <td>vdv</td>\n",
       "      <td>ru</td>\n",
       "    </tr>\n",
       "    <tr>\n",
       "      <th>2</th>\n",
       "      <td>2022-03-27</td>\n",
       "      <td>50.568989</td>\n",
       "      <td>30.263795</td>\n",
       "      <td>51st Guards Airborne Regiment</td>\n",
       "      <td>vdv</td>\n",
       "      <td>ru</td>\n",
       "    </tr>\n",
       "    <tr>\n",
       "      <th>3</th>\n",
       "      <td>2022-03-31</td>\n",
       "      <td>50.723595</td>\n",
       "      <td>30.333666</td>\n",
       "      <td>45th Separate Guards Special Purpose Brigade</td>\n",
       "      <td>vdv</td>\n",
       "      <td>ru</td>\n",
       "    </tr>\n",
       "    <tr>\n",
       "      <th>4</th>\n",
       "      <td>2022-03-31</td>\n",
       "      <td>50.468224</td>\n",
       "      <td>30.024069</td>\n",
       "      <td>37th Separate Guards Motorized Rifle Brigade</td>\n",
       "      <td>motor_rifle</td>\n",
       "      <td>ru</td>\n",
       "    </tr>\n",
       "  </tbody>\n",
       "</table>\n",
       "</div>"
      ],
      "text/plain": [
       "         date        lat        lng  \\\n",
       "0  2022-03-27  50.492187  30.166542   \n",
       "1  2022-03-27  50.646655  30.258347   \n",
       "2  2022-03-27  50.568989  30.263795   \n",
       "3  2022-03-31  50.723595  30.333666   \n",
       "4  2022-03-31  50.468224  30.024069   \n",
       "\n",
       "                                           unit  type_of_btg country  \n",
       "0             104th Guards Air Assault Regiment          vdv      ru  \n",
       "1                137th Guards Airborne Regiment          vdv      ru  \n",
       "2                 51st Guards Airborne Regiment          vdv      ru  \n",
       "3  45th Separate Guards Special Purpose Brigade          vdv      ru  \n",
       "4  37th Separate Guards Motorized Rifle Brigade  motor_rifle      ru  "
      ]
     },
     "execution_count": 2,
     "metadata": {},
     "output_type": "execute_result"
    }
   ],
   "source": [
    "df = pd.read_csv('./assets/Infrastructure/RAW/btgs_all.csv')\n",
    "df.head()"
   ]
  },
  {
   "cell_type": "code",
   "execution_count": 6,
   "metadata": {},
   "outputs": [
    {
     "name": "stdout",
     "output_type": "stream",
     "text": [
      "<class 'pandas.core.frame.DataFrame'>\n",
      "RangeIndex: 1112 entries, 0 to 1111\n",
      "Data columns (total 6 columns):\n",
      " #   Column       Non-Null Count  Dtype  \n",
      "---  ------       --------------  -----  \n",
      " 0   date         1112 non-null   object \n",
      " 1   lat          1112 non-null   float64\n",
      " 2   lng          1112 non-null   float64\n",
      " 3   unit         1112 non-null   object \n",
      " 4   type_of_btg  1112 non-null   object \n",
      " 5   country      1112 non-null   object \n",
      "dtypes: float64(2), object(4)\n",
      "memory usage: 52.2+ KB\n"
     ]
    }
   ],
   "source": [
    "df.info()"
   ]
  },
  {
   "cell_type": "code",
   "execution_count": 3,
   "metadata": {},
   "outputs": [
    {
     "data": {
      "text/html": [
       "<div>\n",
       "<style scoped>\n",
       "    .dataframe tbody tr th:only-of-type {\n",
       "        vertical-align: middle;\n",
       "    }\n",
       "\n",
       "    .dataframe tbody tr th {\n",
       "        vertical-align: top;\n",
       "    }\n",
       "\n",
       "    .dataframe thead th {\n",
       "        text-align: right;\n",
       "    }\n",
       "</style>\n",
       "<table border=\"1\" class=\"dataframe\">\n",
       "  <thead>\n",
       "    <tr style=\"text-align: right;\">\n",
       "      <th></th>\n",
       "      <th>dogs</th>\n",
       "      <th>cats</th>\n",
       "    </tr>\n",
       "  </thead>\n",
       "  <tbody>\n",
       "    <tr>\n",
       "      <th>dogs</th>\n",
       "      <td>1.0</td>\n",
       "      <td>0.3</td>\n",
       "    </tr>\n",
       "    <tr>\n",
       "      <th>cats</th>\n",
       "      <td>0.3</td>\n",
       "      <td>1.0</td>\n",
       "    </tr>\n",
       "  </tbody>\n",
       "</table>\n",
       "</div>"
      ],
      "text/plain": [
       "      dogs  cats\n",
       "dogs   1.0   0.3\n",
       "cats   0.3   1.0"
      ]
     },
     "execution_count": 3,
     "metadata": {},
     "output_type": "execute_result"
    }
   ],
   "source": [
    "def histogram_intersection(a, b):\n",
    "    v = np.minimum(a, b).sum().round(decimals=1)\n",
    "    return v\n",
    "\n",
    "df = pd.DataFrame([(.2, .3), (.0, .6), (.6, .0), (.2, .1)],\n",
    "    columns=['dogs', 'cats'])\n",
    "\n",
    "df.corr(method=histogram_intersection)"
   ]
  }
 ],
 "metadata": {
  "kernelspec": {
   "display_name": "dash",
   "language": "python",
   "name": "python3"
  },
  "language_info": {
   "codemirror_mode": {
    "name": "ipython",
    "version": 3
   },
   "file_extension": ".py",
   "mimetype": "text/x-python",
   "name": "python",
   "nbconvert_exporter": "python",
   "pygments_lexer": "ipython3",
   "version": "3.9.5 (default, Jan  2 2023, 21:11:04) \n[GCC 10.2.1 20210110]"
  },
  "orig_nbformat": 4,
  "vscode": {
   "interpreter": {
    "hash": "08dd2072a07119dc042e8cd06a63db288d71d743438fb61972555d4578d39d01"
   }
  }
 },
 "nbformat": 4,
 "nbformat_minor": 2
}
